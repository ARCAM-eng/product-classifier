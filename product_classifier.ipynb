{
 "cells": [
  {
   "cell_type": "markdown",
   "id": "6ec4643e",
   "metadata": {},
   "source": [
    "# Predicția categoriei produsului pe baza titlului\n",
    "\n",
    "Acest notebook urmărește următorii pași: încărcarea datelor → curățare → ingineria caracteristicilor → TF-IDF și caracteristici numerice → comparație de model (LogisticRegression și RandomForest) → training final → salvare.pkl → test pe exemple."
   ]
  },
  {
   "cell_type": "code",
   "execution_count": 1,
   "id": "80af7115",
   "metadata": {},
   "outputs": [
    {
     "name": "stdout",
     "output_type": "stream",
     "text": [
      "Imports OK\n"
     ]
    }
   ],
   "source": [
    "# Încărcare module\n",
    "import os\n",
    "import pandas as pd\n",
    "import numpy as np\n",
    "from sklearn.model_selection import train_test_split\n",
    "from sklearn.feature_extraction.text import TfidfVectorizer\n",
    "from sklearn.pipeline import Pipeline, FeatureUnion\n",
    "from sklearn.base import BaseEstimator, TransformerMixin\n",
    "from sklearn.preprocessing import StandardScaler\n",
    "from sklearn.linear_model import LogisticRegression\n",
    "from sklearn.ensemble import RandomForestClassifier\n",
    "from sklearn.metrics import classification_report, accuracy_score\n",
    "import joblib\n",
    "import warnings\n",
    "warnings.filterwarnings('ignore')\n",
    "print(\"Imports OK\")"
   ]
  },
  {
   "cell_type": "code",
   "execution_count": 2,
   "id": "c72ae585",
   "metadata": {},
   "outputs": [
    {
     "name": "stdout",
     "output_type": "stream",
     "text": [
      "Rows: 35311\n",
      "['product ID', 'Product Title', 'Merchant ID', ' Category Label', '_Product Code', 'Number_of_Views', 'Merchant Rating', ' Listing Date  ']\n"
     ]
    },
    {
     "data": {
      "text/html": [
       "<div>\n",
       "<style scoped>\n",
       "    .dataframe tbody tr th:only-of-type {\n",
       "        vertical-align: middle;\n",
       "    }\n",
       "\n",
       "    .dataframe tbody tr th {\n",
       "        vertical-align: top;\n",
       "    }\n",
       "\n",
       "    .dataframe thead th {\n",
       "        text-align: right;\n",
       "    }\n",
       "</style>\n",
       "<table border=\"1\" class=\"dataframe\">\n",
       "  <thead>\n",
       "    <tr style=\"text-align: right;\">\n",
       "      <th></th>\n",
       "      <th>product ID</th>\n",
       "      <th>Product Title</th>\n",
       "      <th>Merchant ID</th>\n",
       "      <th>Category Label</th>\n",
       "      <th>_Product Code</th>\n",
       "      <th>Number_of_Views</th>\n",
       "      <th>Merchant Rating</th>\n",
       "      <th>Listing Date</th>\n",
       "    </tr>\n",
       "  </thead>\n",
       "  <tbody>\n",
       "    <tr>\n",
       "      <th>0</th>\n",
       "      <td>1</td>\n",
       "      <td>apple iphone 8 plus 64gb silver</td>\n",
       "      <td>1</td>\n",
       "      <td>Mobile Phones</td>\n",
       "      <td>QA-2276-XC</td>\n",
       "      <td>860.0</td>\n",
       "      <td>2.5</td>\n",
       "      <td>5/10/2024</td>\n",
       "    </tr>\n",
       "    <tr>\n",
       "      <th>1</th>\n",
       "      <td>2</td>\n",
       "      <td>apple iphone 8 plus 64 gb spacegrau</td>\n",
       "      <td>2</td>\n",
       "      <td>Mobile Phones</td>\n",
       "      <td>KA-2501-QO</td>\n",
       "      <td>3772.0</td>\n",
       "      <td>4.8</td>\n",
       "      <td>12/31/2024</td>\n",
       "    </tr>\n",
       "    <tr>\n",
       "      <th>2</th>\n",
       "      <td>3</td>\n",
       "      <td>apple mq8n2b/a iphone 8 plus 64gb 5.5 12mp sim...</td>\n",
       "      <td>3</td>\n",
       "      <td>Mobile Phones</td>\n",
       "      <td>FP-8086-IE</td>\n",
       "      <td>3092.0</td>\n",
       "      <td>3.9</td>\n",
       "      <td>11/10/2024</td>\n",
       "    </tr>\n",
       "  </tbody>\n",
       "</table>\n",
       "</div>"
      ],
      "text/plain": [
       "   product ID                                      Product Title  Merchant ID  \\\n",
       "0           1                    apple iphone 8 plus 64gb silver            1   \n",
       "1           2                apple iphone 8 plus 64 gb spacegrau            2   \n",
       "2           3  apple mq8n2b/a iphone 8 plus 64gb 5.5 12mp sim...            3   \n",
       "\n",
       "   Category Label _Product Code  Number_of_Views  Merchant Rating  \\\n",
       "0   Mobile Phones    QA-2276-XC            860.0              2.5   \n",
       "1   Mobile Phones    KA-2501-QO           3772.0              4.8   \n",
       "2   Mobile Phones    FP-8086-IE           3092.0              3.9   \n",
       "\n",
       "   Listing Date    \n",
       "0       5/10/2024  \n",
       "1      12/31/2024  \n",
       "2      11/10/2024  "
      ]
     },
     "execution_count": 2,
     "metadata": {},
     "output_type": "execute_result"
    }
   ],
   "source": [
    "# Încărcare date\n",
    "data_path = \"IMLP4_TASK_03-products.csv\"\n",
    "if not os.path.exists(data_path):\n",
    "    raise FileNotFoundError(f\"Place your products.csv at {data_path} and re-run the notebook.\")\n",
    "df = pd.read_csv(data_path)\n",
    "print(\"Rows:\", len(df))\n",
    "print(df.columns.tolist())\n",
    "df.head(3)"
   ]
  },
  {
   "cell_type": "code",
   "execution_count": 3,
   "id": "70f688b7",
   "metadata": {},
   "outputs": [
    {
     "name": "stdout",
     "output_type": "stream",
     "text": [
      "After cleaning rows: 35096\n"
     ]
    },
    {
     "data": {
      "text/plain": [
       "Category Label\n",
       "Fridge Freezers     5470\n",
       "Washing Machines    4015\n",
       "Mobile Phones       4002\n",
       "CPUs                3747\n",
       "TVs                 3541\n",
       "Fridges             3436\n",
       "Dishwashers         3405\n",
       "Digital Cameras     2689\n",
       "Microwaves          2328\n",
       "Freezers            2201\n",
       "Name: count, dtype: int64"
      ]
     },
     "execution_count": 3,
     "metadata": {},
     "output_type": "execute_result"
    }
   ],
   "source": [
    "# Curățarea datelor: se țin rândurile cu Product title și Category label\n",
    "df = df.rename(columns=lambda c: c.strip())\n",
    "required_cols = ['Product Title', 'Category Label']\n",
    "for c in required_cols:\n",
    "    if c not in df.columns:\n",
    "        raise ValueError(f\"Required column '{c}' not found in CSV. Found: {df.columns.tolist()}\")\n",
    "df = df.dropna(subset=['Product Title', 'Category Label']).reset_index(drop=True)\n",
    "df['Product Title'] = df['Product Title'].astype(str)\n",
    "df['Category Label'] = df['Category Label'].astype(str)\n",
    "print(\"After cleaning rows:\", len(df))\n",
    "df['Category Label'].value_counts().head(10)"
   ]
  },
  {
   "cell_type": "code",
   "execution_count": 4,
   "id": "949a6515",
   "metadata": {},
   "outputs": [
    {
     "data": {
      "text/html": [
       "<div>\n",
       "<style scoped>\n",
       "    .dataframe tbody tr th:only-of-type {\n",
       "        vertical-align: middle;\n",
       "    }\n",
       "\n",
       "    .dataframe tbody tr th {\n",
       "        vertical-align: top;\n",
       "    }\n",
       "\n",
       "    .dataframe thead th {\n",
       "        text-align: right;\n",
       "    }\n",
       "</style>\n",
       "<table border=\"1\" class=\"dataframe\">\n",
       "  <thead>\n",
       "    <tr style=\"text-align: right;\">\n",
       "      <th></th>\n",
       "      <th>product ID</th>\n",
       "      <th>Product Title</th>\n",
       "      <th>Merchant ID</th>\n",
       "      <th>Category Label</th>\n",
       "      <th>_Product Code</th>\n",
       "      <th>Number_of_Views</th>\n",
       "      <th>Merchant Rating</th>\n",
       "      <th>Listing Date</th>\n",
       "      <th>n_words</th>\n",
       "      <th>n_chars</th>\n",
       "      <th>n_digits</th>\n",
       "      <th>pct_upper</th>\n",
       "      <th>longest_word</th>\n",
       "      <th>has_special</th>\n",
       "      <th>has_gb</th>\n",
       "      <th>has_mp</th>\n",
       "    </tr>\n",
       "  </thead>\n",
       "  <tbody>\n",
       "    <tr>\n",
       "      <th>0</th>\n",
       "      <td>1</td>\n",
       "      <td>apple iphone 8 plus 64gb silver</td>\n",
       "      <td>1</td>\n",
       "      <td>Mobile Phones</td>\n",
       "      <td>QA-2276-XC</td>\n",
       "      <td>860.0</td>\n",
       "      <td>2.5</td>\n",
       "      <td>5/10/2024</td>\n",
       "      <td>6.0</td>\n",
       "      <td>31.0</td>\n",
       "      <td>3.0</td>\n",
       "      <td>0.0</td>\n",
       "      <td>6.0</td>\n",
       "      <td>0.0</td>\n",
       "      <td>0.0</td>\n",
       "      <td>0.0</td>\n",
       "    </tr>\n",
       "    <tr>\n",
       "      <th>1</th>\n",
       "      <td>2</td>\n",
       "      <td>apple iphone 8 plus 64 gb spacegrau</td>\n",
       "      <td>2</td>\n",
       "      <td>Mobile Phones</td>\n",
       "      <td>KA-2501-QO</td>\n",
       "      <td>3772.0</td>\n",
       "      <td>4.8</td>\n",
       "      <td>12/31/2024</td>\n",
       "      <td>7.0</td>\n",
       "      <td>35.0</td>\n",
       "      <td>3.0</td>\n",
       "      <td>0.0</td>\n",
       "      <td>9.0</td>\n",
       "      <td>0.0</td>\n",
       "      <td>1.0</td>\n",
       "      <td>0.0</td>\n",
       "    </tr>\n",
       "    <tr>\n",
       "      <th>2</th>\n",
       "      <td>3</td>\n",
       "      <td>apple mq8n2b/a iphone 8 plus 64gb 5.5 12mp sim...</td>\n",
       "      <td>3</td>\n",
       "      <td>Mobile Phones</td>\n",
       "      <td>FP-8086-IE</td>\n",
       "      <td>3092.0</td>\n",
       "      <td>3.9</td>\n",
       "      <td>11/10/2024</td>\n",
       "      <td>13.0</td>\n",
       "      <td>70.0</td>\n",
       "      <td>9.0</td>\n",
       "      <td>0.0</td>\n",
       "      <td>10.0</td>\n",
       "      <td>1.0</td>\n",
       "      <td>0.0</td>\n",
       "      <td>0.0</td>\n",
       "    </tr>\n",
       "  </tbody>\n",
       "</table>\n",
       "</div>"
      ],
      "text/plain": [
       "   product ID                                      Product Title  Merchant ID  \\\n",
       "0           1                    apple iphone 8 plus 64gb silver            1   \n",
       "1           2                apple iphone 8 plus 64 gb spacegrau            2   \n",
       "2           3  apple mq8n2b/a iphone 8 plus 64gb 5.5 12mp sim...            3   \n",
       "\n",
       "  Category Label _Product Code  Number_of_Views  Merchant Rating Listing Date  \\\n",
       "0  Mobile Phones    QA-2276-XC            860.0              2.5    5/10/2024   \n",
       "1  Mobile Phones    KA-2501-QO           3772.0              4.8   12/31/2024   \n",
       "2  Mobile Phones    FP-8086-IE           3092.0              3.9   11/10/2024   \n",
       "\n",
       "   n_words  n_chars  n_digits  pct_upper  longest_word  has_special  has_gb  \\\n",
       "0      6.0     31.0       3.0        0.0           6.0          0.0     0.0   \n",
       "1      7.0     35.0       3.0        0.0           9.0          0.0     1.0   \n",
       "2     13.0     70.0       9.0        0.0          10.0          1.0     0.0   \n",
       "\n",
       "   has_mp  \n",
       "0     0.0  \n",
       "1     0.0  \n",
       "2     0.0  "
      ]
     },
     "execution_count": 4,
     "metadata": {},
     "output_type": "execute_result"
    }
   ],
   "source": [
    "# Ingineria caracteristicilor\n",
    "import re\n",
    "def title_basic_stats(title):\n",
    "    if not isinstance(title, str):\n",
    "        title = \"\"\n",
    "    words = title.split()\n",
    "    n_words = len(words)\n",
    "    n_chars = len(title)\n",
    "    n_digits = sum(c.isdigit() for c in title)\n",
    "    n_upper = sum(1 for c in title if c.isupper())\n",
    "    pct_upper = n_upper / max(1, n_chars)\n",
    "    longest_word = max((len(w) for w in words), default=0)\n",
    "    has_special = int(bool(re.search(r'[^A-Za-z0-9\\s]', title)))\n",
    "    has_gb = int(bool(re.search(r'\\b(GB|gb)\\b', title)))\n",
    "    has_mp = int(bool(re.search(r'\\b(MP|mp)\\b', title)))\n",
    "    return {'n_words': n_words, 'n_chars': n_chars, 'n_digits': n_digits, 'pct_upper': pct_upper, 'longest_word': longest_word, 'has_special': has_special, 'has_gb': has_gb, 'has_mp': has_mp}\n",
    "\n",
    "feats = df['Product Title'].apply(title_basic_stats).apply(pd.Series)\n",
    "df = pd.concat([df, feats], axis=1)\n",
    "df.head(3)"
   ]
  },
  {
   "cell_type": "code",
   "execution_count": 5,
   "id": "8063fb90",
   "metadata": {},
   "outputs": [
    {
     "name": "stdout",
     "output_type": "stream",
     "text": [
      "Preprocessor ready\n"
     ]
    }
   ],
   "source": [
    "# TF-IDF și caracteristici numerice\n",
    "class ColumnSelector(BaseEstimator, TransformerMixin):\n",
    "    def __init__(self, column):\n",
    "        self.column = column\n",
    "    def fit(self, X, y=None):\n",
    "        return self\n",
    "    def transform(self, X):\n",
    "        # X expected as DataFrame\n",
    "        if isinstance(self.column, list):\n",
    "            return X[self.column]\n",
    "        return X[self.column].astype(str).values\n",
    "\n",
    "class DataFrameToArray(BaseEstimator, TransformerMixin):\n",
    "    def fit(self, X, y=None): return self\n",
    "    def transform(self, X):\n",
    "        if hasattr(X, 'values'):\n",
    "            return X.values\n",
    "        return X\n",
    "\n",
    "text_pipeline = Pipeline([\n",
    "    ('selector', ColumnSelector('Product Title')),\n",
    "    ('tfidf', TfidfVectorizer(ngram_range=(1,2), max_features=15000, lowercase=True))\n",
    "])\n",
    "\n",
    "numeric_cols = ['n_words','n_chars','n_digits','pct_upper','longest_word','has_special','has_gb','has_mp']\n",
    "numeric_pipeline = Pipeline([\n",
    "    ('selector', ColumnSelector(numeric_cols)),\n",
    "    ('toarr', DataFrameToArray()),\n",
    "    ('scaler', StandardScaler())\n",
    "])\n",
    "\n",
    "preprocessor = FeatureUnion([('text', text_pipeline), ('num', numeric_pipeline)])\n",
    "print(\"Preprocessor ready\")"
   ]
  },
  {
   "cell_type": "code",
   "execution_count": 6,
   "id": "3af03e5f",
   "metadata": {},
   "outputs": [
    {
     "name": "stdout",
     "output_type": "stream",
     "text": [
      "Train: 28076 Test: 7020\n"
     ]
    }
   ],
   "source": [
    "# Antrenare și testare\n",
    "X = df.copy()\n",
    "y = df['Category Label']\n",
    "X_train, X_test, y_train, y_test = train_test_split(X, y, test_size=0.2, stratify=y, random_state=42)\n",
    "print(\"Train:\", len(X_train), \"Test:\", len(X_test))\n"
   ]
  },
  {
   "cell_type": "code",
   "execution_count": 7,
   "id": "25258103",
   "metadata": {},
   "outputs": [],
   "source": [
    "# Evaluare modele\n",
    "def train_and_eval(clf, name=\"model\"):\n",
    "    pipe = Pipeline([('preproc', preprocessor), ('clf', clf)])\n",
    "    pipe.fit(X_train, y_train)\n",
    "    preds = pipe.predict(X_test)\n",
    "    acc = accuracy_score(y_test, preds)\n",
    "    print(f\"== {name} ==\\nAccuracy: {acc:.4f}\\n\")\n",
    "    print(classification_report(y_test, preds, zero_division=0))\n",
    "    return pipe, acc\n",
    "\n",
    "models_results = []"
   ]
  },
  {
   "cell_type": "code",
   "execution_count": 8,
   "id": "3f6272c7",
   "metadata": {},
   "outputs": [
    {
     "name": "stdout",
     "output_type": "stream",
     "text": [
      "== LogisticRegression ==\n",
      "Accuracy: 0.9537\n",
      "\n",
      "                  precision    recall  f1-score   support\n",
      "\n",
      "             CPU       0.00      0.00      0.00        17\n",
      "            CPUs       0.98      1.00      0.99       749\n",
      " Digital Cameras       0.99      0.99      0.99       538\n",
      "     Dishwashers       0.94      0.95      0.95       681\n",
      "        Freezers       1.00      0.92      0.96       440\n",
      " Fridge Freezers       0.94      0.94      0.94      1094\n",
      "         Fridges       0.85      0.90      0.88       687\n",
      "      Microwaves       0.98      0.96      0.97       466\n",
      "    Mobile Phone       0.00      0.00      0.00        11\n",
      "   Mobile Phones       0.97      0.99      0.98       801\n",
      "             TVs       0.98      0.99      0.98       708\n",
      "Washing Machines       0.95      0.96      0.95       803\n",
      "          fridge       0.00      0.00      0.00        25\n",
      "\n",
      "        accuracy                           0.95      7020\n",
      "       macro avg       0.74      0.74      0.74      7020\n",
      "    weighted avg       0.95      0.95      0.95      7020\n",
      "\n"
     ]
    }
   ],
   "source": [
    "# Logistic Regression \n",
    "lr = LogisticRegression(max_iter=2000, n_jobs=-1)\n",
    "lr_pipe, lr_acc = train_and_eval(lr, name='LogisticRegression')\n",
    "models_results.append(('LogisticRegression', lr_pipe, lr_acc))"
   ]
  },
  {
   "cell_type": "code",
   "execution_count": 9,
   "id": "110ff004",
   "metadata": {},
   "outputs": [
    {
     "name": "stdout",
     "output_type": "stream",
     "text": [
      "== RandomForest ==\n",
      "Accuracy: 0.9554\n",
      "\n",
      "                  precision    recall  f1-score   support\n",
      "\n",
      "             CPU       0.00      0.00      0.00        17\n",
      "            CPUs       0.98      0.99      0.98       749\n",
      " Digital Cameras       1.00      0.98      0.99       538\n",
      "     Dishwashers       0.97      0.97      0.97       681\n",
      "        Freezers       0.94      0.93      0.93       440\n",
      " Fridge Freezers       0.94      0.94      0.94      1094\n",
      "         Fridges       0.88      0.90      0.89       687\n",
      "      Microwaves       0.96      0.97      0.97       466\n",
      "    Mobile Phone       0.00      0.00      0.00        11\n",
      "   Mobile Phones       0.96      0.99      0.97       801\n",
      "             TVs       0.99      0.99      0.99       708\n",
      "Washing Machines       0.96      0.96      0.96       803\n",
      "          fridge       0.00      0.00      0.00        25\n",
      "\n",
      "        accuracy                           0.96      7020\n",
      "       macro avg       0.74      0.74      0.74      7020\n",
      "    weighted avg       0.95      0.96      0.95      7020\n",
      "\n"
     ]
    }
   ],
   "source": [
    "# Random Forest \n",
    "rf = RandomForestClassifier(n_estimators=200, n_jobs=-1, random_state=42)\n",
    "rf_pipe, rf_acc = train_and_eval(rf, name='RandomForest')\n",
    "models_results.append(('RandomForest', rf_pipe, rf_acc))"
   ]
  },
  {
   "cell_type": "code",
   "execution_count": 10,
   "id": "648c9115",
   "metadata": {},
   "outputs": [
    {
     "name": "stdout",
     "output_type": "stream",
     "text": [
      "Best model: RandomForest acc: 0.9554131054131054\n",
      "Saved best model to product_classifier.pkl\n"
     ]
    }
   ],
   "source": [
    "# Selectarea modelului cu cea mai bună acuratețe\n",
    "best = sorted(models_results, key=lambda r: r[2], reverse=True)[0]\n",
    "best_name, best_pipe, best_acc = best\n",
    "print(\"Best model:\", best_name, \"acc:\", best_acc)\n",
    "\n",
    "# Salvează direct în rădăcină (fără director models)\n",
    "model_path = 'product_classifier.pkl'  # 👈 Direct în rădăcină\n",
    "joblib.dump(best_pipe, model_path)\n",
    "print(\"Saved best model to\", model_path)"
   ]
  },
  {
   "cell_type": "code",
   "execution_count": 11,
   "id": "f2f1f9ff",
   "metadata": {},
   "outputs": [
    {
     "name": "stdout",
     "output_type": "stream",
     "text": [
      "Title: iphone 7 32gb gold,4,3,Apple iPhone 7 32GB\n",
      "Predicted: Mobile Phones\n",
      "--------------------------------------------------\n",
      "Title: olympus e m10 mark iii geh use silber\n",
      "Predicted: Digital Cameras\n",
      "--------------------------------------------------\n",
      "Title: kenwood k20mss15 solo\n",
      "Predicted: Microwaves\n",
      "--------------------------------------------------\n",
      "Title: bosch wap28390gb 8kg 1400 spin\n",
      "Predicted: Washing Machines\n",
      "--------------------------------------------------\n",
      "Title: bosch serie 4 kgv39vl31g\n",
      "Predicted: Microwaves\n",
      "--------------------------------------------------\n",
      "Title: smeg sbs8004po\n",
      "Predicted: Fridges\n",
      "--------------------------------------------------\n"
     ]
    }
   ],
   "source": [
    "# Funcție pentru a crea manual caracteristicile\n",
    "def create_features(title):\n",
    "    return {\n",
    "        'n_words': len(str(title).split()),\n",
    "        'n_chars': len(str(title)),\n",
    "        'n_digits': sum(c.isdigit() for c in str(title)),\n",
    "        'pct_upper': sum(c.isupper() for c in str(title)) / max(len(str(title)), 1),\n",
    "        'longest_word': max([len(w) for w in str(title).split()], default=0),\n",
    "        'has_special': int(any(c in str(title) for c in ['!', '@', '#', '$', '%', '&', '*'])),\n",
    "        'has_gb': int('gb' in str(title).lower()),\n",
    "        'has_mp': int('mp' in str(title).lower()),\n",
    "        'Product Title': title\n",
    "    }\n",
    "\n",
    "# Testare\n",
    "manual_titles = [\n",
    "    \"iphone 7 32gb gold,4,3,Apple iPhone 7 32GB\",\n",
    "    \"olympus e m10 mark iii geh use silber\",\n",
    "    \"kenwood k20mss15 solo\",\n",
    "    \"bosch wap28390gb 8kg 1400 spin\",\n",
    "    \"bosch serie 4 kgv39vl31g\",\n",
    "    \"smeg sbs8004po\"\n",
    "]\n",
    "\n",
    "for t in manual_titles:\n",
    "    # Creează toate caracteristicile necesare necesare\n",
    "    features = create_features(t)\n",
    "    test_data = pd.DataFrame([features])\n",
    "    \n",
    "    pred = best_pipe.predict(test_data)\n",
    "    print(f\"Title: {t}\")\n",
    "    print(f\"Predicted: {pred[0]}\")\n",
    "    print(\"-\" * 50)"
   ]
  },
  {
   "cell_type": "code",
   "execution_count": 12,
   "id": "4e180677",
   "metadata": {},
   "outputs": [
    {
     "name": "stdout",
     "output_type": "stream",
     "text": [
      "Model încărcat cu succes!\n"
     ]
    },
    {
     "name": "stdin",
     "output_type": "stream",
     "text": [
      "\n",
      "Introdu titlul produsului:  iphone 7 32gb gold,4,3,Apple iPhone 7 32GB\n"
     ]
    },
    {
     "name": "stdout",
     "output_type": "stream",
     "text": [
      "*Categoria prezisă:* Mobile Phones\n",
      "Probabilități: [0.    0.045 0.005 0.005 0.015 0.025 0.005 0.025 0.01  0.84  0.015 0.01\n",
      " 0.   ]\n"
     ]
    },
    {
     "name": "stdin",
     "output_type": "stream",
     "text": [
      "\n",
      "Introdu titlul produsului:  exit\n"
     ]
    },
    {
     "name": "stdout",
     "output_type": "stream",
     "text": [
      "La revedere!\n"
     ]
    }
   ],
   "source": [
    "\n",
    "# ==== Test interactiv ====\n",
    "# Funcție pentru a crea toate feature-urile necesare\n",
    "def create_features(title):\n",
    "    \"\"\"Creează toate feature-urile pe care modelul le așteaptă\"\"\"\n",
    "    title_str = str(title)\n",
    "    return {\n",
    "        'Product Title': title_str,\n",
    "        'n_words': len(title_str.split()),\n",
    "        'n_chars': len(title_str),\n",
    "        'n_digits': sum(c.isdigit() for c in title_str),\n",
    "        'pct_upper': sum(c.isupper() for c in title_str) / max(len(title_str), 1),\n",
    "        'longest_word': max([len(w) for w in title_str.split()], default=0),\n",
    "        'has_special': int(any(c in title_str for c in ['!', '@', '#', '$', '%', '&', '*'])),\n",
    "        'has_gb': int('gb' in title_str.lower()),\n",
    "        'has_mp': int('mp' in title_str.lower())\n",
    "    }\n",
    "\n",
    "# Încarcă modelul salvat \n",
    "try:\n",
    "    model_path = 'product_classifier.pkl'  \n",
    "    model = joblib.load(model_path)\n",
    "    print(\"Model încărcat cu succes!\")\n",
    "except FileNotFoundError:\n",
    "    print(\"Fișierul modelului nu a fost găsit!\")\n",
    "    exit()\n",
    "except Exception as e:\n",
    "    print(f\"Eroare la încărcare: {e}\")\n",
    "    exit()\n",
    "\n",
    "while True:\n",
    "    user_input = input(\"\\nIntrodu titlul produsului: \")\n",
    "    \n",
    "    if user_input.lower() == \"exit\":\n",
    "        print(\"La revedere!\")\n",
    "        break\n",
    "    \n",
    "    if not user_input.strip():\n",
    "        print(\"Te rog introdu un titlu valid\")\n",
    "        continue\n",
    "    \n",
    "    try:\n",
    "        # Creează toate caracteristicile necesare\n",
    "        features = create_features(user_input)\n",
    "        \n",
    "        # Creează DataFrame cu toate coloanele necesare\n",
    "        test_data = pd.DataFrame([features])\n",
    "        \n",
    "        # Predic'ia\n",
    "        prediction = model.predict(test_data)\n",
    "        \n",
    "        print(f\"*Categoria prezisă:* {prediction[0]}\")\n",
    "        \n",
    "        # Afișează probabilități\n",
    "        if hasattr(model, 'predict_proba'):\n",
    "            try:\n",
    "                probabilities = model.predict_proba(test_data)\n",
    "                print(f\"Probabilități: {probabilities[0]}\")\n",
    "            except:\n",
    "                pass\n",
    "                \n",
    "    except Exception as e:\n",
    "        print(f\"Eroare la predicție: {e}\")\n",
    "    "
   ]
  },
  {
   "cell_type": "code",
   "execution_count": null,
   "id": "9ef3d623-ca0c-4cb3-ba86-993f9125a8b9",
   "metadata": {},
   "outputs": [],
   "source": []
  }
 ],
 "metadata": {
  "kernelspec": {
   "display_name": "Python 3 (ipykernel)",
   "language": "python",
   "name": "python3"
  },
  "language_info": {
   "codemirror_mode": {
    "name": "ipython",
    "version": 3
   },
   "file_extension": ".py",
   "mimetype": "text/x-python",
   "name": "python",
   "nbconvert_exporter": "python",
   "pygments_lexer": "ipython3",
   "version": "3.13.0"
  }
 },
 "nbformat": 4,
 "nbformat_minor": 5
}
